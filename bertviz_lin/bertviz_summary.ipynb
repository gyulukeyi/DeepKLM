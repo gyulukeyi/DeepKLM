{
 "cells": [
  {
   "cell_type": "code",
   "execution_count": null,
   "metadata": {},
   "outputs": [],
   "source": [
    "from bertviz import attention, visualization\n",
    "from bertviz.pytorch_pretrained_bert import BertModel, BertTokenizer, BertForTokenClassification   "
   ]
  },
  {
   "cell_type": "code",
   "execution_count": null,
   "metadata": {},
   "outputs": [],
   "source": [
    "%%javascript\n",
    "require.config({\n",
    "  paths: {\n",
    "      d3: '//cdnjs.cloudflare.com/ajax/libs/d3/3.4.8/d3.min'\n",
    "  }\n",
    "});\n"
   ]
  },
  {
   "cell_type": "code",
   "execution_count": null,
   "metadata": {},
   "outputs": [],
   "source": [
    "def call_html():\n",
    "  import IPython\n",
    "  display(IPython.core.display.HTML('''\n",
    "        <script src=\"/static/components/requirejs/require.js\"></script>\n",
    "        <script>\n",
    "          requirejs.config({\n",
    "            paths: {\n",
    "              base: '/static/base',\n",
    "              \"d3\": \"https://cdnjs.cloudflare.com/ajax/libs/d3/3.5.8/d3.min\",\n",
    "              jquery: '//ajax.googleapis.com/ajax/libs/jquery/2.0.0/jquery.min',\n",
    "            },\n",
    "          });\n",
    "        </script>\n",
    "        '''))"
   ]
  },
  {
   "cell_type": "code",
   "execution_count": null,
   "metadata": {},
   "outputs": [],
   "source": [
    "bert_version = 'bert-base-uncased'\n",
    "model = BertForTokenClassification.from_pretrained(bert_version, num_labels=2)\n",
    "tokenizer = BertTokenizer.from_pretrained(bert_version)\n",
    "\n",
    "sentence_a = \"the boy's cat near the man saw him .\"\n",
    "sentence_b = \".\" # \"can our newts that the walrus would confuse confuse some newt ?\"\n",
    "expt_params = {\n",
    "    'token_groups': [1,1,0,0,0,0,2,2,0,0,0],\n",
    "    'attn_sources': [10],\n",
    "    'attn_target_groups': [2],\n",
    "}\n",
    "\n",
    "attention_visualizer = visualization.AttentionVisualizer(model, tokenizer)\n",
    "tokens_a, tokens_b, attn = attention_visualizer.get_viz_data(sentence_a, sentence_b)\n",
    "call_html()\n",
    "attention.show(tokens_a, tokens_b, attn, expt_params)"
   ]
  },
  {
   "cell_type": "code",
   "execution_count": null,
   "metadata": {},
   "outputs": [],
   "source": []
  }
 ],
 "metadata": {
  "kernelspec": {
   "display_name": "Python 3",
   "language": "python",
   "name": "python3"
  },
  "language_info": {
   "codemirror_mode": {
    "name": "ipython",
    "version": 3
   },
   "file_extension": ".py",
   "mimetype": "text/x-python",
   "name": "python",
   "nbconvert_exporter": "python",
   "pygments_lexer": "ipython3",
   "version": "3.6.8"
  }
 },
 "nbformat": 4,
 "nbformat_minor": 1
}
