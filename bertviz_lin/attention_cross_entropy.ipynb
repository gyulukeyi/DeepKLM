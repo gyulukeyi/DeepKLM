{
 "cells": [
  {
   "cell_type": "code",
   "execution_count": 1,
   "metadata": {},
   "outputs": [
    {
     "name": "stdout",
     "output_type": "stream",
     "text": [
      "Better speed can be achieved with apex installed from https://www.github.com/nvidia/apex.\n"
     ]
    }
   ],
   "source": [
    "# coding=utf-8\n",
    "\n",
    "import json\n",
    "import os\n",
    "import torch\n",
    "import numpy as np\n",
    "from tqdm import tqdm\n",
    "\n",
    "from bertviz import attention, visualization\n",
    "from bertviz.pytorch_pretrained_bert import BertModel, BertTokenizer, BertForTokenClassification"
   ]
  },
  {
   "cell_type": "code",
   "execution_count": 2,
   "metadata": {},
   "outputs": [],
   "source": [
    "class AttentionGenerator:\n",
    "\n",
    "    def __init__(self, model, tokenizer):\n",
    "        self.model = model\n",
    "        self.tokenizer = tokenizer\n",
    "        self.model.eval()\n",
    "\n",
    "    def get_data(self, sentence_a):\n",
    "        tokens_tensor, token_type_tensor, tokens_a = self._get_inputs(sentence_a)\n",
    "        attn = self._get_attention(tokens_tensor, token_type_tensor)\n",
    "        return tokens_a, attn\n",
    "\n",
    "    def _get_inputs(self, sentence_a):\n",
    "        tokens_a = self.tokenizer.tokenize(sentence_a)\n",
    "        tokens_a_delim = ['[CLS]'] + tokens_a + ['[SEP]']\n",
    "        token_ids = self.tokenizer.convert_tokens_to_ids(tokens_a_delim)\n",
    "        tokens_tensor = torch.tensor([token_ids])\n",
    "        token_type_tensor = torch.LongTensor([[0] * len(tokens_a_delim)])\n",
    "        return tokens_tensor, token_type_tensor, tokens_a_delim\n",
    "\n",
    "    def _get_attention(self, tokens_tensor, token_type_tensor):\n",
    "        _, _, attn_data_list = self.model(tokens_tensor, token_type_ids=token_type_tensor)\n",
    "        attn_tensor = torch.stack([attn_data['attn_probs'] for attn_data in attn_data_list])\n",
    "        return attn_tensor.data.numpy()"
   ]
  },
  {
   "cell_type": "code",
   "execution_count": 9,
   "metadata": {
    "scrolled": false
   },
   "outputs": [
    {
     "name": "stderr",
     "output_type": "stream",
     "text": [
      "10000it [05:46, 28.89it/s]\n"
     ]
    }
   ],
   "source": [
    "file_path = '../pytorch_pretrained_bert/data_agr/agr.15'\n",
    "# factor_str = \"{is_RC} {DNo_match} {DNr_match}\".format(is_RC=1, DNo_match=0, DNr_match=0)\n",
    "factor_str = \"{has_RC} {DN_match} {has_infl_aux}\".format(has_RC=1, DN_match=0, has_infl_aux=1)\n",
    "out = open('agr.15.out', 'w')\n",
    "\n",
    "bert_version = 'bert-base-uncased'\n",
    "model = BertForTokenClassification.from_pretrained(bert_version, num_labels=2)\n",
    "n_layers = model.config.num_hidden_layers\n",
    "tokenizer = BertTokenizer.from_pretrained(bert_version)\n",
    "attention_generator = AttentionGenerator(model, tokenizer)\n",
    "\n",
    "with open(file_path, 'r') as f:\n",
    "    lines = f.readlines()\n",
    "\n",
    "bces = np.empty([len(lines), n_layers])\n",
    "for idx, line in tqdm(enumerate(lines)):\n",
    "\n",
    "    # preprocess lines\n",
    "    line = line.strip().split('\\t')\n",
    "    sentence, source, *target_groups = line\n",
    "    source_idx = int(source) + 1 # offset for [CLS]\n",
    "    target_groups_idx = []\n",
    "    for group in target_groups:\n",
    "        str_idxes = group.strip().split()\n",
    "        target_groups_idx.append(list(map(lambda s: int(s) + 1, str_idxes))) # offset for [CLS]\n",
    "\n",
    "    tokens, attn = attention_generator.get_data(sentence)\n",
    "    source_attn = np.empty([n_layers])\n",
    "    for layer in range(n_layers):\n",
    "        layer_attn = attn[layer][0] # Get layer attention (assume batch size = 1), shape = [num_heads, seq_len, seq_len]\n",
    "        head_avg = np.mean(layer_attn, axis=0) # shape = [seq_len, seq_len]\n",
    "        grouped_attn = [head_avg[source_idx, group].sum() for group in target_groups_idx]\n",
    "        grouped_attn /= sum(grouped_attn)\n",
    "        source_attn[layer] = grouped_attn[0]\n",
    "\n",
    "    bce = -np.log2(source_attn)\n",
    "    bces[idx] = bce\n",
    "    for layer_idx, bce_val in enumerate(bce, 1):\n",
    "        out.write(f\"{factor_str} {layer_idx} {bce_val}\\n\")\n",
    "\n",
    "out.close()\n",
    "\n",
    "corpus_avg_bce = np.mean(bces, axis=0)\n",
    "corpus_avg_summed_bce = np.sum(corpus_avg_bce)\n"
   ]
  },
  {
   "cell_type": "code",
   "execution_count": 10,
   "metadata": {},
   "outputs": [
    {
     "data": {
      "text/plain": [
       "array([1.24790663, 0.98991765, 0.99917777, 1.24925629, 0.92088941,\n",
       "       1.28900114, 0.95009588, 1.09005471, 0.89251214, 0.81285282,\n",
       "       0.85832825, 0.84508687])"
      ]
     },
     "execution_count": 10,
     "metadata": {},
     "output_type": "execute_result"
    }
   ],
   "source": [
    "corpus_avg_bce"
   ]
  },
  {
   "cell_type": "code",
   "execution_count": 12,
   "metadata": {},
   "outputs": [
    {
     "data": {
      "text/plain": [
       "12.145079574666749"
      ]
     },
     "execution_count": 12,
     "metadata": {},
     "output_type": "execute_result"
    }
   ],
   "source": [
    "corpus_avg_summed_bce"
   ]
  },
  {
   "cell_type": "code",
   "execution_count": 13,
   "metadata": {
    "scrolled": true
   },
   "outputs": [
    {
     "data": {
      "text/plain": [
       "1.0120899645555623"
      ]
     },
     "execution_count": 13,
     "metadata": {},
     "output_type": "execute_result"
    }
   ],
   "source": [
    "corpus_avg_summed_bce/len(corpus_avg_bce)"
   ]
  },
  {
   "cell_type": "code",
   "execution_count": null,
   "metadata": {},
   "outputs": [],
   "source": []
  },
  {
   "cell_type": "code",
   "execution_count": 14,
   "metadata": {
    "scrolled": false
   },
   "outputs": [
    {
     "name": "stderr",
     "output_type": "stream",
     "text": [
      "10000it [06:29, 25.69it/s]\n"
     ]
    }
   ],
   "source": [
    "file_path = '../pytorch_pretrained_bert/data_refl/refl.5'\n",
    "factor_str = \"{is_RC} {DNo_match} {DNr_match}\".format(is_RC=1, DNo_match=0, DNr_match=0)\n",
    "# factor_str = \"{has_RC} {DN_match} {has_infl_aux}\".format(has_RC=1, DN_match=0, has_infl_aux=1)\n",
    "out = open('refl.5.out', 'w')\n",
    "\n",
    "bert_version = 'bert-base-uncased'\n",
    "model = BertForTokenClassification.from_pretrained(bert_version, num_labels=2)\n",
    "n_layers = model.config.num_hidden_layers\n",
    "tokenizer = BertTokenizer.from_pretrained(bert_version)\n",
    "attention_generator = AttentionGenerator(model, tokenizer)\n",
    "\n",
    "with open(file_path, 'r') as f:\n",
    "    lines = f.readlines()\n",
    "\n",
    "bces = np.empty([len(lines), n_layers])\n",
    "for idx, line in tqdm(enumerate(lines)):\n",
    "\n",
    "    # preprocess lines\n",
    "    line = line.strip().split('\\t')\n",
    "    sentence, source, *target_groups = line\n",
    "    source_idx = int(source) + 1 # offset for [CLS]\n",
    "    target_groups_idx = []\n",
    "    for group in target_groups:\n",
    "        str_idxes = group.strip().split()\n",
    "        target_groups_idx.append(list(map(lambda s: int(s) + 1, str_idxes))) # offset for [CLS]\n",
    "\n",
    "    tokens, attn = attention_generator.get_data(sentence)\n",
    "    source_attn = np.empty([n_layers])\n",
    "    for layer in range(n_layers):\n",
    "        layer_attn = attn[layer][0] # Get layer attention (assume batch size = 1), shape = [num_heads, seq_len, seq_len]\n",
    "        head_avg = np.mean(layer_attn, axis=0) # shape = [seq_len, seq_len]\n",
    "        grouped_attn = [head_avg[source_idx, group].sum() for group in target_groups_idx]\n",
    "        grouped_attn /= sum(grouped_attn)\n",
    "        source_attn[layer] = grouped_attn[0]\n",
    "\n",
    "    bce = -np.log2(source_attn)\n",
    "    bces[idx] = bce\n",
    "    for layer_idx, bce_val in enumerate(bce, 1):\n",
    "        out.write(f\"{factor_str} {layer_idx} {bce_val}\\n\")\n",
    "\n",
    "out.close()\n",
    "\n",
    "corpus_avg_bce = np.mean(bces, axis=0)\n",
    "corpus_avg_summed_bce = np.sum(corpus_avg_bce)\n"
   ]
  },
  {
   "cell_type": "code",
   "execution_count": 15,
   "metadata": {},
   "outputs": [
    {
     "data": {
      "text/plain": [
       "array([1.83850494, 1.66179948, 1.60509775, 1.86446394, 1.52999158,\n",
       "       1.43328184, 1.3906293 , 1.84089164, 1.42146948, 1.42791497,\n",
       "       1.40542546, 1.39968409])"
      ]
     },
     "execution_count": 15,
     "metadata": {},
     "output_type": "execute_result"
    }
   ],
   "source": [
    "corpus_avg_bce"
   ]
  },
  {
   "cell_type": "code",
   "execution_count": 16,
   "metadata": {},
   "outputs": [
    {
     "data": {
      "text/plain": [
       "18.819154444445207"
      ]
     },
     "execution_count": 16,
     "metadata": {},
     "output_type": "execute_result"
    }
   ],
   "source": [
    "corpus_avg_summed_bce"
   ]
  },
  {
   "cell_type": "code",
   "execution_count": 17,
   "metadata": {
    "scrolled": true
   },
   "outputs": [
    {
     "data": {
      "text/plain": [
       "1.568262870370434"
      ]
     },
     "execution_count": 17,
     "metadata": {},
     "output_type": "execute_result"
    }
   ],
   "source": [
    "corpus_avg_summed_bce/len(corpus_avg_bce)"
   ]
  },
  {
   "cell_type": "code",
   "execution_count": null,
   "metadata": {},
   "outputs": [],
   "source": []
  }
 ],
 "metadata": {
  "kernelspec": {
   "display_name": "python3(confusion_score)\n",
   "language": "python",
   "name": "confusion_score"
  },
  "language_info": {
   "codemirror_mode": {
    "name": "ipython",
    "version": 3
   },
   "file_extension": ".py",
   "mimetype": "text/x-python",
   "name": "python",
   "nbconvert_exporter": "python",
   "pygments_lexer": "ipython3",
   "version": "3.7.4"
  }
 },
 "nbformat": 4,
 "nbformat_minor": 2
}
